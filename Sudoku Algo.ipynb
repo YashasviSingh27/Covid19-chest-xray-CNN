{
 "cells": [
  {
   "cell_type": "code",
   "execution_count": 1,
   "metadata": {},
   "outputs": [],
   "source": [
    "M = 4\n",
    "def puzzle(a):\n",
    "    for i in range(M):\n",
    "        for j in range(M):\n",
    "            print(a[i][j],end = \" \")\n",
    "        print()\n",
    "def solve(grid, row, col, num):\n",
    "    for x in range(4):\n",
    "        if grid[row][x] == num:\n",
    "            return False\n",
    "             \n",
    "    for x in range(4):\n",
    "        if grid[x][col] == num:\n",
    "            return False\n",
    " \n",
    "    startRow = row - row % 2\n",
    "    startCol = col - col % 2\n",
    "    for i in range(2):\n",
    "\n",
    "        for j in range(2):\n",
    "            if grid[i + startRow][j + startCol] == num:\n",
    "                return False\n",
    "    return True"
   ]
  },
  {
   "cell_type": "code",
   "execution_count": 6,
   "metadata": {},
   "outputs": [
    {
     "name": "stdout",
     "output_type": "stream",
     "text": [
      "1 2 3 4 \n",
      "4 3 1 2 \n",
      "3 4 2 1 \n",
      "2 1 4 3 \n"
     ]
    }
   ],
   "source": [
    "def Suduko(grid, row, col):\n",
    "    \n",
    "    if (row == M - 1 and col == M):\n",
    "        return True\n",
    "    if col == M:\n",
    "        row += 1\n",
    "        col = 0\n",
    "    if grid[row][col] > 0:\n",
    "        return Suduko(grid, row, col + 1)\n",
    "    for num in range(1, M + 1, 1): \n",
    "     \n",
    "        if solve(grid, row, col, num):\n",
    "         \n",
    "            grid[row][col] = num\n",
    "            if Suduko(grid, row, col + 1):\n",
    "                return True\n",
    "        grid[row][col] = 0\n",
    "    return False\n",
    "    \n",
    "\n",
    "grid = [[1, 2, 3, 0],\n",
    "        [0, 0, 0, 0],\n",
    "    [3, 0, 0, 0],\n",
    "    [0, 0, 0, 0]]\n",
    " \n",
    "if (Suduko(grid, 0, 0)):\n",
    "    puzzle(grid)\n",
    "else:\n",
    "    print(\"Solution does not exist:(\")\n",
    "    "
   ]
  },
  {
   "cell_type": "code",
   "execution_count": 7,
   "metadata": {},
   "outputs": [],
   "source": []
  },
  {
   "cell_type": "code",
   "execution_count": 8,
   "metadata": {},
   "outputs": [],
   "source": []
  },
  {
   "cell_type": "code",
   "execution_count": 2,
   "metadata": {},
   "outputs": [
    {
     "name": "stdout",
     "output_type": "stream",
     "text": [
      "5\n"
     ]
    }
   ],
   "source": [
    "print(5)"
   ]
  },
  {
   "cell_type": "code",
   "execution_count": null,
   "metadata": {},
   "outputs": [],
   "source": []
  }
 ],
 "metadata": {
  "kernelspec": {
   "display_name": "Python 3",
   "language": "python",
   "name": "python3"
  },
  "language_info": {
   "codemirror_mode": {
    "name": "ipython",
    "version": 3
   },
   "file_extension": ".py",
   "mimetype": "text/x-python",
   "name": "python",
   "nbconvert_exporter": "python",
   "pygments_lexer": "ipython3",
   "version": "3.8.5"
  }
 },
 "nbformat": 4,
 "nbformat_minor": 4
}
